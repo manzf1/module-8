{
 "cells": [
  {
   "cell_type": "code",
   "execution_count": 1,
   "id": "10c5474d",
   "metadata": {},
   "outputs": [
    {
     "name": "stdout",
     "output_type": "stream",
     "text": [
      "rock  0.1088\n",
      "scissors  0.0\n",
      "paper  0.1107\n"
     ]
    }
   ],
   "source": [
    "#test rock paper scissors game\n",
    "import random as r\n",
    "\n",
    "def rps():\n",
    "  rock_count = 0\n",
    "  paper_count = 0\n",
    "  scissors_count = 0\n",
    "\n",
    "  for i in range (10000):\n",
    "    num1 = r.randint(1,3)\n",
    "    num2 = r.randint(1,3)\n",
    "\n",
    "    if (num1==num2):\n",
    "      continue\n",
    "    elif (num1 == 1 and num2 == 2):\n",
    "      paper_count += 1\n",
    "    elif (num1 == 1 and num2 == 3):\n",
    "      rock_count += 1\n",
    "    elif (num1 == 1 and num2 == 3):\n",
    "      scissors_count += 1\n",
    " \n",
    "  print(\"rock \", rock_count/10000)\n",
    "  print(\"scissors \", scissors_count/10000)\n",
    "  print(\"paper \", paper_count/10000)\n",
    "\n",
    "rps()  \n",
    "\n",
    "\n"
   ]
  },
  {
   "cell_type": "code",
   "execution_count": null,
   "id": "340bd8cc",
   "metadata": {},
   "outputs": [],
   "source": []
  }
 ],
 "metadata": {
  "kernelspec": {
   "display_name": "Python 3",
   "language": "python",
   "name": "python3"
  },
  "language_info": {
   "codemirror_mode": {
    "name": "ipython",
    "version": 3
   },
   "file_extension": ".py",
   "mimetype": "text/x-python",
   "name": "python",
   "nbconvert_exporter": "python",
   "pygments_lexer": "ipython3",
   "version": "3.8.8"
  }
 },
 "nbformat": 4,
 "nbformat_minor": 5
}

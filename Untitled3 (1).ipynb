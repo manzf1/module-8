{
  "nbformat": 4,
  "nbformat_minor": 0,
  "metadata": {
    "colab": {
      "name": "Untitled3.ipynb",
      "provenance": []
    },
    "kernelspec": {
      "name": "python3",
      "display_name": "Python 3"
    },
    "language_info": {
      "name": "python"
    }
  },
  "cells": [
    {
      "cell_type": "code",
      "metadata": {
        "colab": {
          "base_uri": "https://localhost:8080/"
        },
        "id": "YS0HWjGetohN",
        "outputId": "03492b3f-ba9c-4ffa-8201-61a167020d65"
      },
      "source": [
        "#sum from number1 to number 2\n",
        "def sum_between (first,second):\n",
        "  nums_between = range(first,second+1)\n",
        "  sum_between = 0\n",
        "  for num in nums_between:\n",
        "    sum_between += num\n",
        "  return sum_between\n",
        "\n",
        "first_number = int(input(\"Enter first number: \"))\n",
        "second_number = int(input(\"Enter second number: \"))\n",
        "\n",
        "print(sum_between(first_number, second_number))    "
      ],
      "execution_count": 1,
      "outputs": [
        {
          "output_type": "stream",
          "name": "stdout",
          "text": [
            "Enter first number: 5\n",
            "Enter second number: 8\n",
            "26\n"
          ]
        }
      ]
    }
  ]
}
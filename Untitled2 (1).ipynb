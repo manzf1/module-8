{
  "nbformat": 4,
  "nbformat_minor": 0,
  "metadata": {
    "colab": {
      "name": "Untitled2.ipynb",
      "provenance": []
    },
    "kernelspec": {
      "name": "python3",
      "display_name": "Python 3"
    },
    "language_info": {
      "name": "python"
    }
  },
  "cells": [
    {
      "cell_type": "code",
      "metadata": {
        "colab": {
          "base_uri": "https://localhost:8080/"
        },
        "id": "Bcgqdv1gsFFE",
        "outputId": "6dd8ae44-ff65-4304-cc9b-938b340c5ab8"
      },
      "source": [
        "#average of two numbers\n",
        "def func1(x,y):\n",
        "  return (x+y)/2\n",
        "\n",
        "num1 = int(input(\"Give me a number\"))\n",
        "num2 = int(input(\"Give me a number\"))\n",
        "\n",
        "avg = func1(num1,num2)\n",
        "print(avg)"
      ],
      "execution_count": 1,
      "outputs": [
        {
          "output_type": "stream",
          "name": "stdout",
          "text": [
            "Give me a number6\n",
            "Give me a number54\n",
            "30.0\n"
          ]
        }
      ]
    }
  ]
}
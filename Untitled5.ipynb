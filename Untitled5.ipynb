{
  "nbformat": 4,
  "nbformat_minor": 0,
  "metadata": {
    "colab": {
      "name": "Untitled5.ipynb",
      "provenance": []
    },
    "kernelspec": {
      "name": "python3",
      "display_name": "Python 3"
    },
    "language_info": {
      "name": "python"
    }
  },
  "cells": [
    {
      "cell_type": "code",
      "metadata": {
        "colab": {
          "base_uri": "https://localhost:8080/"
        },
        "id": "FjIXKno04NDT",
        "outputId": "34437601-56f6-4806-cfa3-19088427a882"
      },
      "source": [
        "#test to see if numbers are coprime\n",
        "def coprime_test(num1, num2):\n",
        "  for i in range(2, num2+1):\n",
        "    if (num1 % 1 == 0 and num2 % i == 0):\n",
        "      return False\n",
        "    return True\n",
        "\n",
        "def list_coprimes(x):\n",
        "  print(1)\n",
        "  for i in range(2,x):\n",
        "    if(coprime_test(x,i)):\n",
        "      print(i)\n",
        "\n",
        "list_coprimes(12)            "
      ],
      "execution_count": 1,
      "outputs": [
        {
          "output_type": "stream",
          "name": "stdout",
          "text": [
            "1\n",
            "3\n",
            "5\n",
            "7\n",
            "9\n",
            "11\n"
          ]
        }
      ]
    }
  ]
}
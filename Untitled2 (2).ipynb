{
  "nbformat": 4,
  "nbformat_minor": 0,
  "metadata": {
    "colab": {
      "name": "Untitled2.ipynb",
      "provenance": []
    },
    "kernelspec": {
      "name": "python3",
      "display_name": "Python 3"
    },
    "language_info": {
      "name": "python"
    }
  },
  "cells": [
    {
      "cell_type": "code",
      "metadata": {
        "colab": {
          "base_uri": "https://localhost:8080/"
        },
        "id": "COyiqtQqeinP",
        "outputId": "5e2df9ed-c9d8-4d67-a74d-bcf346d40902"
      },
      "source": [
        "#twin prime\n",
        "def isPrime(num):\n",
        "  for i in range(2,num):\n",
        "    if (num % i == 0):\n",
        "      return False\n",
        "  return True\n",
        "\n",
        "def is_twin_prime(x):\n",
        "  if(isPrime(x) and isPrime(x+2)):\n",
        "    return True\n",
        "  return False\n",
        "\n",
        "def listTwinPrimes(x,y):\n",
        "  for i in range(x,y+1):\n",
        "    if (is_twin_prime(i)):\n",
        "      print(i,\" \", i+2)\n",
        "      i += 2\n",
        "\n",
        "listTwinPrimes(2,100)            \n",
        "\n"
      ],
      "execution_count": 1,
      "outputs": [
        {
          "output_type": "stream",
          "name": "stdout",
          "text": [
            "3   5\n",
            "5   7\n",
            "11   13\n",
            "17   19\n",
            "29   31\n",
            "41   43\n",
            "59   61\n",
            "71   73\n"
          ]
        }
      ]
    }
  ]
}
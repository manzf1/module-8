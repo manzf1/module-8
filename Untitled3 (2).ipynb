{
  "nbformat": 4,
  "nbformat_minor": 0,
  "metadata": {
    "colab": {
      "name": "Untitled3.ipynb",
      "provenance": []
    },
    "kernelspec": {
      "name": "python3",
      "display_name": "Python 3"
    },
    "language_info": {
      "name": "python"
    }
  },
  "cells": [
    {
      "cell_type": "code",
      "metadata": {
        "colab": {
          "base_uri": "https://localhost:8080/"
        },
        "id": "y598AUjNfyLJ",
        "outputId": "69540f9f-8c0d-4ed6-c261-83b75f9390a5"
      },
      "source": [
        "#item_cost, the percentage off, tax and total cost of an item\n",
        "def total_cost(item_cost,percent_off,tax):\n",
        "  percent_off = item_cost * percent_off\n",
        "  item_cost = item_cost - percent_off\n",
        "  total = item_cost + (item_cost * tax)\n",
        "  print(total)\n",
        "\n",
        "total_cost(140,40,10)  \n"
      ],
      "execution_count": 2,
      "outputs": [
        {
          "output_type": "stream",
          "name": "stdout",
          "text": [
            "-60060\n"
          ]
        }
      ]
    }
  ]
}